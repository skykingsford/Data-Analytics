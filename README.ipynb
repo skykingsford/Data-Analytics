{
  "nbformat": 4,
  "nbformat_minor": 0,
  "metadata": {
    "colab": {
      "provenance": []
    },
    "kernelspec": {
      "name": "python3",
      "display_name": "Python 3"
    },
    "language_info": {
      "name": "python"
    }
  },
  "cells": [
    {
      "cell_type": "markdown",
      "metadata": {
        "id": "OHyAYOWNp68G"
      },
      "source": [
        "# Data Analytics Portfolio\n",
        "This is the portfolio of all class assignments I have completed in Data Analytics.\n",
        "\n",
        "## My Résumé\n",
        "- [Résumé](https://colab.research.google.com/drive/1tFdiqPA3LXoTgoKSXNWEK7DcJoUIglKu?usp=sharing)\n",
        "\n",
        "## Table of Contents\n",
        "1. **Module 1: Using Colab**\n",
        "   - [A1: Markdown CV](https://colab.research.google.com/drive/1tFdiqPA3LXoTgoKSXNWEK7DcJoUIglKu?usp=sharing)\n",
        "   \n",
        "2. **Module 2: Fundamentals of Programming for Data Analysis**\n",
        "   - [A2 Programming Fundamentals](https://colab.research.google.com/drive/15ieqNwOlLPeD1a9KaKDq4YTuxgMXzosd?usp=sharing)\n",
        "   \n",
        "3. **Module 3: Working with Data**\n",
        "   - [A3 Work with data Yelp Reviews](https://colab.research.google.com/drive/1y7ZRiO1pjj3x0Q2ebCbYitk2-nBl1wlp?usp=sharing)\n",
        "  \n",
        "4. **Module 4: Stats review**\n",
        "   - [A4 Hypothesis testing - FB ads and Starbucks promos](https://colab.research.google.com/drive/1-Y0sQqQQNIw1Qe9NkncTeLxJvLChc9t4?usp=sharing)\n",
        "\n",
        "5. **Module 5: Regression**\n",
        "   - [A5 Regression Analysis](https://colab.research.google.com/drive/1V9bMXuEXA09KhCwo4yS9NaWt3RI880xd?usp=sharing)\n",
        "\n",
        "6. **Module 6: Clustering and Segmentation**\n",
        "   - [A6 Segmentation (retail transactions and behavioral segmentation)](https://colab.research.google.com/drive/1XpC8lfkiVJjUasp-s_1rBvRo2So0RI9y?usp=sharing)\n",
        "   \n",
        "7. **Module 7: Use GitHub to Create Your Assignment Portfolio**\n",
        "    - A7 [List Your Data Analytics Skills](https://github.com/skykingsford/Assignment-4-Data-ANLY)\n",
        "  \n",
        "\n"
      ]
    },
    {
      "cell_type": "code",
      "metadata": {
        "id": "064zoU2yp-IJ"
      },
      "source": [],
      "execution_count": null,
      "outputs": []
    }
  ]
}